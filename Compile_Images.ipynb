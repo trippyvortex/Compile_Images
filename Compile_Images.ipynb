{
  "nbformat": 4,
  "nbformat_minor": 0,
  "metadata": {
    "colab": {
      "provenance": [],
      "include_colab_link": true
    },
    "kernelspec": {
      "name": "python3",
      "display_name": "Python 3"
    },
    "language_info": {
      "name": "python"
    }
  },
  "cells": [
    {
      "cell_type": "markdown",
      "metadata": {
        "id": "view-in-github",
        "colab_type": "text"
      },
      "source": [
        "<a href=\"https://colab.research.google.com/github/trippyvortex/Compile_Images/blob/main/Compile_Images.ipynb\" target=\"_parent\"><img src=\"https://colab.research.google.com/assets/colab-badge.svg\" alt=\"Open In Colab\"/></a>"
      ]
    },
    {
      "cell_type": "markdown",
      "source": [
        "\n",
        "#Takes a folder of frames and makes it a video. (High Quality)"
      ],
      "metadata": {
        "id": "2HSEDi8_mdPu"
      }
    },
    {
      "cell_type": "code",
      "execution_count": null,
      "metadata": {
        "id": "cqs8fz4uPQP7",
        "cellView": "form"
      },
      "outputs": [],
      "source": [
        "#@title Drive Connect\n",
        "#@markdown Connect to drive, then copy the path of folder and paste in next cell\n",
        "from google.colab import drive\n",
        "drive.mount('/content/drive')\n",
        "\n",
        "\n"
      ]
    },
    {
      "cell_type": "code",
      "source": [
        "#@title Compile Images Into Video\n",
        "input_folder = \"\" #@param {type: \"string\"}\n",
        "desired_fps = \"24\" #@param {type: \"string\"}\n",
        "\n",
        "import cv2\n",
        "import os\n",
        "\n",
        "# Get the name of the input folder without the path.\n",
        "input_folder_name = os.path.basename(input_folder)\n",
        "\n",
        "# Create the output video path based on the input folder name and desired FPS.\n",
        "output_video_path = f\"{input_folder}/{input_folder_name}_{desired_fps}fps.mp4\"\n",
        "\n",
        "# Retrieve image files with either '.jpg' or '.png' extension and sort them by filename.\n",
        "image_files = [os.path.join(input_folder, file) for file in os.listdir(input_folder) if file.endswith(('.jpg', '.png'))]\n",
        "image_files.sort()  # Sort the image files by filename.\n",
        "\n",
        "# Assuming all images have the same dimensions, get width and height from the first image.\n",
        "first_img = cv2.imread(image_files[0])\n",
        "height, width, layers = first_img.shape\n",
        "\n",
        "# Use 'mp4v' codec (often a variant of H.264) - Change to 'avc1' if needed\n",
        "fourcc = cv2.VideoWriter_fourcc(*'mp4v')\n",
        "\n",
        "# Convert desired_fps to an integer\n",
        "desired_fps = int(desired_fps)\n",
        "\n",
        "video_writer = cv2.VideoWriter(output_video_path, fourcc, desired_fps, (width, height))\n",
        "\n",
        "#@markdown Batch processing: set the batch size based on your available memory\n",
        "batch_size = \"500\" #@param {type: \"string\"}\n",
        "num_images = len(image_files)\n",
        "\n",
        "for start in range(0, num_images, batch_size):\n",
        "    end = min(start + batch_size, num_images)\n",
        "\n",
        "    # Initialize a list to store the image frames for the current batch.\n",
        "    frames = []\n",
        "\n",
        "    for i in range(start, end):\n",
        "        img = cv2.imread(image_files[i])\n",
        "        frames.append(img)\n",
        "\n",
        "    # Write the frames to the video.\n",
        "    for frame in frames:\n",
        "        video_writer.write(frame)\n",
        "\n",
        "# Release the VideoWriter\n",
        "video_writer.release()\n"
      ],
      "metadata": {
        "id": "JpadWdXEGwPN",
        "cellView": "form"
      },
      "execution_count": 3,
      "outputs": []
    }
  ]
}