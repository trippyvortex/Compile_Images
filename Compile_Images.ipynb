{
  "nbformat": 4,
  "nbformat_minor": 0,
  "metadata": {
    "colab": {
      "provenance": [],
      "include_colab_link": true
    },
    "kernelspec": {
      "name": "python3",
      "display_name": "Python 3"
    },
    "language_info": {
      "name": "python"
    }
  },
  "cells": [
    {
      "cell_type": "markdown",
      "metadata": {
        "id": "view-in-github",
        "colab_type": "text"
      },
      "source": [
        "<a href=\"https://colab.research.google.com/github/trippyvortex/Compile_Images/blob/main/Compile_Images.ipynb\" target=\"_parent\"><img src=\"https://colab.research.google.com/assets/colab-badge.svg\" alt=\"Open In Colab\"/></a>"
      ]
    },
    {
      "cell_type": "code",
      "execution_count": 1,
      "metadata": {
        "id": "cqs8fz4uPQP7",
        "colab": {
          "base_uri": "https://localhost:8080/"
        },
        "outputId": "e7736880-9e9c-4e36-8b89-7ea3022cc213"
      },
      "outputs": [
        {
          "output_type": "stream",
          "name": "stdout",
          "text": [
            "Mounted at /content/drive\n"
          ]
        }
      ],
      "source": [
        "from google.colab import drive\n",
        "drive.mount('/content/drive')\n",
        "\n",
        "\n"
      ]
    },
    {
      "cell_type": "code",
      "source": [
        "\n",
        "input_folder = \"/content/drive/MyDrive/AI/StableDiffusion/2023-01/trippy\"#@param {type: \"string\"}\n",
        "desired_fps = \"\"#@param {type: \"string\"}\n",
        "\n",
        "\n",
        "import cv2\n",
        "import os\n",
        "\n",
        "# Get the name of the input folder without the path.\n",
        "input_folder_name = os.path.basename(input_folder)\n",
        "\n",
        "# Create the output video path based on the input folder name and desired FPS.\n",
        "output_video_path = f\"{input_folder}/{input_folder_name}_{desired_fps}fps.mp4\"\n",
        "\n",
        "# Retrieve image files with either '.jpg' or '.png' extension and sort them by filename.\n",
        "image_files = [os.path.join(input_folder, file) for file in os.listdir(input_folder) if file.endswith(('.jpg', '.png'))]\n",
        "image_files.sort()  # Sort the image files by filename.\n",
        "\n",
        "# Initialize a list to store the image frames.\n",
        "frames = []\n",
        "\n",
        "# Assuming all images have the same dimensions, get width and height from the first image.\n",
        "first_img = cv2.imread(image_files[0])\n",
        "height, width, layers = first_img.shape\n",
        "\n",
        "fourcc = cv2.VideoWriter_fourcc(*'mp4v')  # Change 'mp4v' to the desired codec.\n",
        "\n",
        "# Convert desired_fps to an integer\n",
        "desired_fps = int(desired_fps)\n",
        "\n",
        "video_writer = cv2.VideoWriter(output_video_path, fourcc, desired_fps, (width, height))\n",
        "\n",
        "# Loop through the sorted image files, read each image, and add it to the frames list.\n",
        "for image_file in image_files:\n",
        "    img = cv2.imread(image_file)\n",
        "    frames.append(img)\n",
        "\n",
        "# Write the frames to the video.\n",
        "for frame in frames:\n",
        "    video_writer.write(frame)\n",
        "\n",
        "video_writer.release()\n"
      ],
      "metadata": {
        "id": "ggIYeWbXKKSQ"
      },
      "execution_count": 2,
      "outputs": []
    }
  ]
}