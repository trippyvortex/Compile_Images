{
  "nbformat": 4,
  "nbformat_minor": 0,
  "metadata": {
    "colab": {
      "provenance": [],
      "include_colab_link": true
    },
    "kernelspec": {
      "name": "python3",
      "display_name": "Python 3"
    },
    "language_info": {
      "name": "python"
    }
  },
  "cells": [
    {
      "cell_type": "markdown",
      "metadata": {
        "id": "view-in-github",
        "colab_type": "text"
      },
      "source": [
        "<a href=\"https://colab.research.google.com/github/trippyvortex/Compile_Images/blob/main/Compile_Images.ipynb\" target=\"_parent\"><img src=\"https://colab.research.google.com/assets/colab-badge.svg\" alt=\"Open In Colab\"/></a>"
      ]
    },
    {
      "cell_type": "markdown",
      "source": [
        "\n",
        "#Takes a folder of frames and makes it a video. (High Quality)"
      ],
      "metadata": {
        "id": "2HSEDi8_mdPu"
      }
    },
    {
      "cell_type": "code",
      "execution_count": 2,
      "metadata": {
        "id": "cqs8fz4uPQP7",
        "outputId": "925abcb7-6ac6-4430-a55d-b84862ed2e40",
        "colab": {
          "base_uri": "https://localhost:8080/"
        }
      },
      "outputs": [
        {
          "output_type": "stream",
          "name": "stdout",
          "text": [
            "Mounted at /content/drive\n"
          ]
        }
      ],
      "source": [
        "#@title Drive Connect\n",
        "#@markdown Connect to drive, then copy the path of folder and paste in next cell\n",
        "from google.colab import drive\n",
        "drive.mount('/content/drive')\n",
        "\n",
        "\n"
      ]
    },
    {
      "cell_type": "code",
      "source": [
        "#@title Compile Images Into Video\n",
        "input_folder = \"\" #@param {type: \"string\"}\n",
        "desired_fps = \"24\" #@param {type: \"string\"}\n",
        "\n",
        "import cv2\n",
        "import os\n",
        "\n",
        "# Get the name of the input folder without the path.\n",
        "input_folder_name = os.path.basename(input_folder)\n",
        "\n",
        "# Create the output video path based on the input folder name and desired FPS.\n",
        "output_video_path = f\"{input_folder}/{input_folder_name}_{desired_fps}fps.mp4\"\n",
        "\n",
        "# Retrieve image files with either '.jpg' or '.png' extension and sort them by filename.\n",
        "image_files = [os.path.join(input_folder, file) for file in os.listdir(input_folder) if file.endswith(('.jpg', '.png'))]\n",
        "image_files.sort()  # Sort the image files by filename.\n",
        "\n",
        "# Assuming all images have the same dimensions, get width and height from the first image.\n",
        "first_img = cv2.imread(image_files[0])\n",
        "height, width, layers = first_img.shape\n",
        "\n",
        "# Use 'mp4v' codec (often a variant of H.264) - Change to 'avc1' if needed\n",
        "fourcc = cv2.VideoWriter_fourcc(*'mp4v')\n",
        "\n",
        "# Convert desired_fps to an integer\n",
        "desired_fps = int(desired_fps)\n",
        "\n",
        "video_writer = cv2.VideoWriter(output_video_path, fourcc, desired_fps, (width, height))\n",
        "\n",
        "#@markdown Batch processing: set the batch size based on your available memory\n",
        "batch_size = 500\n",
        "num_images = len(image_files)\n",
        "\n",
        "for start in range(0, num_images, batch_size):\n",
        "    end = min(start + batch_size, num_images)\n",
        "\n",
        "    # Initialize a list to store the image frames for the current batch.\n",
        "    frames = []\n",
        "\n",
        "    for i in range(start, end):\n",
        "        img = cv2.imread(image_files[i])\n",
        "        frames.append(img)\n",
        "\n",
        "    # Write the frames to the video.\n",
        "    for frame in frames:\n",
        "        video_writer.write(frame)\n",
        "\n",
        "# Release the VideoWriter\n",
        "video_writer.release()\n"
      ],
      "metadata": {
        "id": "JpadWdXEGwPN"
      },
      "execution_count": null,
      "outputs": []
    },
    {
      "cell_type": "code",
      "source": [
        "#@title Combine Multiple Videos Into One\n",
        "input_folder = \"/content/drive/MyDrive/AI/StableDiffusion/2024-12/OneJungleffs10/intermediate_videos\"  #@param {type: \"string\"}\n",
        "output_video_path = \"combined_output.mp4\"  # Output file name\n",
        "desired_fps = 24  #@param {type: \"integer\"}\n",
        "\n",
        "import cv2\n",
        "import os\n",
        "\n",
        "# Retrieve all video files in the folder\n",
        "video_files = [os.path.join(input_folder, file) for file in os.listdir(input_folder) if file.endswith(('.mp4', '.avi', '.mov', '.mkv'))]\n",
        "video_files.sort()  # Sort the videos by filename (optional)\n",
        "\n",
        "# Check if there are any videos in the folder\n",
        "if not video_files:\n",
        "    raise ValueError(\"No video files found in the input folder!\")\n",
        "\n",
        "# Initialize variables for output video\n",
        "frame_width, frame_height = None, None\n",
        "fourcc = cv2.VideoWriter_fourcc(*'mp4v')\n",
        "output_writer = None\n",
        "\n",
        "# Process each video file\n",
        "for video_path in video_files:\n",
        "    cap = cv2.VideoCapture(video_path)\n",
        "    if not cap.isOpened():\n",
        "        print(f\"Error opening video file: {video_path}\")\n",
        "        continue\n",
        "\n",
        "    # Get video properties\n",
        "    width = int(cap.get(cv2.CAP_PROP_FRAME_WIDTH))\n",
        "    height = int(cap.get(cv2.CAP_PROP_FRAME_HEIGHT))\n",
        "    fps = cap.get(cv2.CAP_PROP_FPS)\n",
        "\n",
        "    # Initialize output writer using the properties of the first video\n",
        "    if output_writer is None:\n",
        "        frame_width, frame_height = width, height\n",
        "        output_writer = cv2.VideoWriter(output_video_path, fourcc, desired_fps, (frame_width, frame_height))\n",
        "\n",
        "    # Process frames in the current video\n",
        "    while True:\n",
        "        ret, frame = cap.read()\n",
        "        if not ret:\n",
        "            break\n",
        "\n",
        "        # Resize frame to match output resolution (optional)\n",
        "        if (frame.shape[1], frame.shape[0]) != (frame_width, frame_height):\n",
        "            frame = cv2.resize(frame, (frame_width, frame_height))\n",
        "\n",
        "        # Write frame to output video\n",
        "        output_writer.write(frame)\n",
        "\n",
        "    cap.release()\n",
        "\n",
        "# Release the VideoWriter\n",
        "if output_writer is not None:\n",
        "    output_writer.release()\n",
        "\n",
        "print(f\"Combined video saved at: {output_video_path}\")\n"
      ],
      "metadata": {
        "id": "Pj0p9iINERHF"
      },
      "execution_count": null,
      "outputs": []
    },
    {
      "cell_type": "code",
      "source": [
        "#@title Combine Multiple Videos Into One (Preserve FPS)\n",
        "input_folder = \"/content/drive/MyDrive/AI/StableDiffusion/2024-12/OneJungleffs10/intermediate_videos\"  #@param {type: \"string\"}\n",
        "output_video_path = \"combined_output.mp4\"  # Output file name\n",
        "\n",
        "import cv2\n",
        "import os\n",
        "\n",
        "# Retrieve all video files in the folder\n",
        "video_files = [os.path.join(input_folder, file) for file in os.listdir(input_folder) if file.endswith(('.mp4', '.avi', '.mov', '.mkv'))]\n",
        "video_files.sort()  # Sort the videos by filename (optional)\n",
        "\n",
        "# Check if there are any videos in the folder\n",
        "if not video_files:\n",
        "    raise ValueError(\"No video files found in the input folder!\")\n",
        "\n",
        "# Initialize variables for output video\n",
        "frame_width, frame_height = None, None\n",
        "fourcc = cv2.VideoWriter_fourcc(*'mp4v')\n",
        "output_writer = None\n",
        "\n",
        "# Process each video file\n",
        "for video_path in video_files:\n",
        "    cap = cv2.VideoCapture(video_path)\n",
        "    if not cap.isOpened():\n",
        "        print(f\"Error opening video file: {video_path}\")\n",
        "        continue\n",
        "\n",
        "    # Get video properties\n",
        "    width = int(cap.get(cv2.CAP_PROP_FRAME_WIDTH))\n",
        "    height = int(cap.get(cv2.CAP_PROP_FRAME_HEIGHT))\n",
        "    fps = cap.get(cv2.CAP_PROP_FPS)\n",
        "\n",
        "    # Initialize output writer using the properties of the first video\n",
        "    if output_writer is None:\n",
        "        frame_width, frame_height = width, height\n",
        "        output_writer = cv2.VideoWriter(output_video_path, fourcc, fps, (frame_width, frame_height))\n",
        "\n",
        "    # Process frames in the current video\n",
        "    while True:\n",
        "        ret, frame = cap.read()\n",
        "        if not ret:\n",
        "            break\n",
        "\n",
        "        # Resize frame to match output resolution (optional)\n",
        "        if (frame.shape[1], frame.shape[0]) != (frame_width, frame_height):\n",
        "            frame = cv2.resize(frame, (frame_width, frame_height))\n",
        "\n",
        "        # Write frame to output video\n",
        "        output_writer.write(frame)\n",
        "\n",
        "    cap.release()\n",
        "\n",
        "# Release the VideoWriter\n",
        "if output_writer is not None:\n",
        "    output_writer.release()\n",
        "\n",
        "print(f\"Combined video saved at: {output_video_path}\")\n"
      ],
      "metadata": {
        "id": "1OX_hmsoE_QW",
        "outputId": "1763484f-49cc-4c1a-eb75-392f1279d130",
        "colab": {
          "base_uri": "https://localhost:8080/",
          "height": 228
        }
      },
      "execution_count": 2,
      "outputs": [
        {
          "output_type": "stream",
          "name": "stdout",
          "text": [
            "Error opening video file: /content/drive/MyDrive/AI/StableDiffusion/2024-12/OneJungleffs10/intermediate_videos/interpolated_0064.mp4\n"
          ]
        },
        {
          "output_type": "error",
          "ename": "KeyboardInterrupt",
          "evalue": "",
          "traceback": [
            "\u001b[0;31m---------------------------------------------------------------------------\u001b[0m",
            "\u001b[0;31mKeyboardInterrupt\u001b[0m                         Traceback (most recent call last)",
            "\u001b[0;32m<ipython-input-2-53f580369151>\u001b[0m in \u001b[0;36m<cell line: 22>\u001b[0;34m()\u001b[0m\n\u001b[1;32m     21\u001b[0m \u001b[0;31m# Process each video file\u001b[0m\u001b[0;34m\u001b[0m\u001b[0;34m\u001b[0m\u001b[0m\n\u001b[1;32m     22\u001b[0m \u001b[0;32mfor\u001b[0m \u001b[0mvideo_path\u001b[0m \u001b[0;32min\u001b[0m \u001b[0mvideo_files\u001b[0m\u001b[0;34m:\u001b[0m\u001b[0;34m\u001b[0m\u001b[0;34m\u001b[0m\u001b[0m\n\u001b[0;32m---> 23\u001b[0;31m     \u001b[0mcap\u001b[0m \u001b[0;34m=\u001b[0m \u001b[0mcv2\u001b[0m\u001b[0;34m.\u001b[0m\u001b[0mVideoCapture\u001b[0m\u001b[0;34m(\u001b[0m\u001b[0mvideo_path\u001b[0m\u001b[0;34m)\u001b[0m\u001b[0;34m\u001b[0m\u001b[0;34m\u001b[0m\u001b[0m\n\u001b[0m\u001b[1;32m     24\u001b[0m     \u001b[0;32mif\u001b[0m \u001b[0;32mnot\u001b[0m \u001b[0mcap\u001b[0m\u001b[0;34m.\u001b[0m\u001b[0misOpened\u001b[0m\u001b[0;34m(\u001b[0m\u001b[0;34m)\u001b[0m\u001b[0;34m:\u001b[0m\u001b[0;34m\u001b[0m\u001b[0;34m\u001b[0m\u001b[0m\n\u001b[1;32m     25\u001b[0m         \u001b[0mprint\u001b[0m\u001b[0;34m(\u001b[0m\u001b[0;34mf\"Error opening video file: {video_path}\"\u001b[0m\u001b[0;34m)\u001b[0m\u001b[0;34m\u001b[0m\u001b[0;34m\u001b[0m\u001b[0m\n",
            "\u001b[0;31mKeyboardInterrupt\u001b[0m: "
          ]
        }
      ]
    },
    {
      "cell_type": "code",
      "source": [
        "#@title Combine Multiple Videos Into One (Segmented Processing)\n",
        "import cv2\n",
        "import os  # Importing the missing 'os' module\n",
        "\n",
        "input_folder = \"/content/drive/MyDrive/AI/StableDiffusion/2024-12/OneJungleffs10/intermediate_videos\"  #@param {type: \"string\"}\n",
        "output_video_path = os.path.join(input_folder, \"combined_output.mp4\")  # Save to the same folder\n",
        "batch_size = 50  # Number of videos to process in each batch\n",
        "\n",
        "# Retrieve all video files in the folder\n",
        "video_files = [os.path.join(input_folder, file) for file in os.listdir(input_folder) if file.endswith(('.mp4', '.avi', '.mov', '.mkv'))]\n",
        "video_files.sort()  # Sort the videos by filename (optional)\n",
        "\n",
        "# Check if there are any videos in the folder\n",
        "if not video_files:\n",
        "    raise ValueError(\"No video files found in the input folder!\")\n",
        "\n",
        "# Initialize variables for output video\n",
        "frame_width, frame_height = None, None\n",
        "fourcc = cv2.VideoWriter_fourcc(*'mp4v')\n",
        "output_writer = None\n",
        "\n",
        "# Function to process a batch of videos\n",
        "def process_batch(video_paths, writer, frame_width, frame_height):\n",
        "    for video_path in video_paths:\n",
        "        cap = cv2.VideoCapture(video_path)\n",
        "        if not cap.isOpened():\n",
        "            print(f\"Error opening video file: {video_path}\")\n",
        "            continue\n",
        "\n",
        "        # Get video properties\n",
        "        width = int(cap.get(cv2.CAP_PROP_FRAME_WIDTH))\n",
        "        height = int(cap.get(cv2.CAP_PROP_FRAME_HEIGHT))\n",
        "        fps = cap.get(cv2.CAP_PROP_FPS)\n",
        "\n",
        "        # Initialize the output writer if it's not yet created\n",
        "        if writer is None:\n",
        "            frame_width, frame_height = width, height\n",
        "            writer = cv2.VideoWriter(output_video_path, fourcc, fps, (frame_width, frame_height))\n",
        "\n",
        "        # Process frames in the current video\n",
        "        while True:\n",
        "            ret, frame = cap.read()\n",
        "            if not ret:\n",
        "                break\n",
        "\n",
        "            # Resize frame to match output resolution (optional)\n",
        "            if (frame.shape[1], frame.shape[0]) != (frame_width, frame_height):\n",
        "                frame = cv2.resize(frame, (frame_width, frame_height))\n",
        "\n",
        "            # Write frame to output video\n",
        "            writer.write(frame)\n",
        "\n",
        "        cap.release()\n",
        "    return writer, frame_width, frame_height\n",
        "\n",
        "# Process videos in batches\n",
        "for i in range(0, len(video_files), batch_size):\n",
        "    batch = video_files[i:i + batch_size]\n",
        "    output_writer, frame_width, frame_height = process_batch(batch, output_writer, frame_width, frame_height)\n",
        "\n",
        "# Release the VideoWriter\n",
        "if output_writer is not None:\n",
        "    output_writer.release()\n",
        "\n",
        "print(f\"Combined video saved at: {output_video_path}\")\n",
        "\n"
      ],
      "metadata": {
        "colab": {
          "base_uri": "https://localhost:8080/"
        },
        "id": "l5jhtZfxFVju",
        "outputId": "7c580e9e-2438-4566-9c3b-14c9ed77deee"
      },
      "execution_count": 6,
      "outputs": [
        {
          "output_type": "stream",
          "name": "stdout",
          "text": [
            "Error opening video file: /content/drive/MyDrive/AI/StableDiffusion/2024-12/OneJungleffs10/intermediate_videos/interpolated_0066.mp4\n",
            "Combined video saved at: /content/drive/MyDrive/AI/StableDiffusion/2024-12/OneJungleffs10/intermediate_videos/combined_output.mp4\n"
          ]
        }
      ]
    }
  ]
}